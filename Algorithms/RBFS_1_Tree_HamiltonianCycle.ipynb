{
  "cells": [
    {
      "cell_type": "markdown",
      "metadata": {
        "id": "Fxb1aE9zF7sK"
      },
      "source": [
        "## Hamiltonian Cycle problem solving by Recursive Best First Search algorithm with 1-Tree modified heuristic."
      ]
    },
    {
      "cell_type": "markdown",
      "metadata": {
        "id": "IL0QDMy3F7sL"
      },
      "source": [
        "### 1.\tDefine the environment in the following block"
      ]
    },
    {
      "cell_type": "code",
      "execution_count": 10,
      "metadata": {
        "id": "osp61RsLF7sN"
      },
      "outputs": [],
      "source": [
        "#Code Block : Define appropriate classes\n",
        "\n",
        "import math, time, tracemalloc\n",
        "import heapq\n",
        "\n",
        "class TourAgentProblem:\n",
        "    \"\"\"\n",
        "    The Problem class to hold states related to it. It holds the graph,\n",
        "    the initial state, and an object to hold its complexity analysis metrics\n",
        "    \"\"\"\n",
        "    def __init__(self, graph, initial_state):\n",
        "        self.all_nodes = graph.keys()\n",
        "        self.graph = graph\n",
        "        self.initial_state = initial_state\n",
        "\n",
        "    \"\"\"\n",
        "    Set an object that keeps track of complexity analysis\n",
        "    \"\"\"\n",
        "    def set_metrics(self, metrics):\n",
        "        self.metrics = metrics\n",
        "        self.metrics.graph_size = len(self.all_nodes)\n",
        "        self.metrics.graph_edges = sum(len(neighbors) for neighbors in self.graph.values()) // 2\n",
        "\n",
        "class Node:\n",
        "    \"\"\"\n",
        "    The Node class to hold each node of the tree as a part of the problem.\n",
        "    Each node contains its state, parent, and the path cost to it.\n",
        "    \"\"\"\n",
        "    def __init__(self, state, parent=None, path_cost=1) -> None:\n",
        "        self.state = state\n",
        "        self.parent = parent\n",
        "        self.path_cost = parent.path_cost + path_cost if parent else 0\n",
        "\n",
        "    def __repr__(self) -> str:\n",
        "        return str(self.state)\n",
        "\n",
        "    def get_path(self):\n",
        "        \"\"\"Return a list of nodes forming the path from the root to this node.\"\"\"\n",
        "        node, path_back = self, []\n",
        "        while node:\n",
        "            path_back.append(node)\n",
        "            node = node.parent\n",
        "        return list(reversed(path_back))\n",
        "\n",
        "    def __lt__(self, other):\n",
        "        return self\n",
        "\n",
        "    def __le__(self, other):\n",
        "        return self\n",
        "\n"
      ]
    },
    {
      "cell_type": "code",
      "source": [
        "# Holder classes for time and space complexity.\n",
        "\n",
        "class Metrics:\n",
        "\n",
        "    def __init__(self) -> None:\n",
        "        self.nodes_expanded = 0\n",
        "        self.nodes_generated = 0\n",
        "        self.max_fringe_size = 0\n",
        "        self.current_fringe_size = 0\n",
        "        self.max_depth = 0\n",
        "        self.current_depth = 0\n",
        "        self.start_time = time.perf_counter()\n",
        "        tracemalloc.start()\n",
        "\n",
        "    def finalize(self):\n",
        "        # End timing and memory tracking\n",
        "        end_time = time.perf_counter()\n",
        "        current, peak = tracemalloc.get_traced_memory()\n",
        "        tracemalloc.stop()\n",
        "        self.execution_time_ms = (end_time - self.start_time) * 1000\n",
        "        self.memory_current_kb = current / 1024\n",
        "        self.memory_peak_kb = peak / 1024\n",
        "\n",
        "    def get_algorithm(self):\n",
        "        return self.algorithm\n",
        "\n",
        "    def print_complexity_analysis(self):\n",
        "        # Print detailed complexity analysis\n",
        "        print(f\"\\n{'='*60}\")\n",
        "        print(f\"SPACE AND TIME COMPLEXITY ANALYSIS OF {self.get_algorithm()} IMPLEMENTATION:\")\n",
        "        print(f\"{'='*60}\")\n",
        "\n",
        "        print(f\"\\nGraph Statistics:\")\n",
        "        print(f\"  • Number of nodes: {self.graph_size}\")\n",
        "        print(f\"  • Number of edges: {self.graph_edges}\")\n",
        "\n",
        "        print(f\"\\nTime Complexity:\")\n",
        "        print(f\"  • Execution time: {self.execution_time_ms:.2f} ms\")\n",
        "        print(f\"  • Nodes expanded: {self.nodes_expanded}\")\n",
        "        print(f\"  • Nodes generated: {self.nodes_generated}\")\n",
        "        print(f\"  • Average branching factor: {self.nodes_generated / max(self.nodes_expanded, 1):.2f}\")\n",
        "\n",
        "        print(f\"\\nSpace Complexity:\")\n",
        "        print(f\"  • Peak memory usage: {self.memory_peak_kb:.2f} KB\")\n",
        "        print(f\"  • Current memory usage: {self.memory_current_kb:.2f} KB\")\n",
        "        print(f\"  • Max fringe size: {self.max_fringe_size}\")\n",
        "        print(f\"  • Max depth reached: {self.max_depth}\")\n",
        "\n",
        "        print(f\"\\nComplexity Estimates:\")\n",
        "        n = self.graph_size\n",
        "        print(f\"  • Theoretical worst case: O(b^d) where b=branching factor, d=depth\")\n",
        "        print(f\"  • For Hamiltonian Cycle: O(n!) = O({n}!) without pruning\")\n",
        "        print(f\"  • Actual nodes expanded: {self.nodes_expanded} vs theoretical max: {math.factorial(n)}\")\n",
        "        print(f\"  • Space saved by {self.get_algorithm()}: Linear O(bd) instead of exponential O(b^d)\")\n",
        "\n",
        "\n",
        "class RBFSMetrics(Metrics):\n",
        "\n",
        "    def __init__(self):\n",
        "        super().__init__()\n",
        "        self.algorithm = \"RBFS\""
      ],
      "metadata": {
        "id": "QT216rxiAxcx"
      },
      "execution_count": 11,
      "outputs": []
    },
    {
      "cell_type": "code",
      "execution_count": 12,
      "metadata": {
        "id": "XODwoWZ0F7sO"
      },
      "outputs": [],
      "source": [
        "# Define the heuristics function for the algorithm here.\n",
        "def prim_mst_cost(graph, nodes):\n",
        "    \"\"\"\n",
        "    Use Prim's algorithm to compute the minimum spanning tree cost as a heuristic\n",
        "    for the remaining nodes of the graph.\n",
        "    \"\"\"\n",
        "    if not nodes or len(nodes) < 2:\n",
        "        return 0.0\n",
        "\n",
        "    nodes_list = list(nodes)\n",
        "    start = nodes_list[0]\n",
        "    visited = {start}\n",
        "    edges = []\n",
        "\n",
        "    for v, w in graph[start].items():\n",
        "        if v in nodes:\n",
        "            heapq.heappush(edges, (w, v))\n",
        "\n",
        "    mst_cost = 0.0\n",
        "    while edges and len(visited) < len(nodes):\n",
        "        w, u = heapq.heappop(edges)\n",
        "        if u not in visited:\n",
        "            visited.add(u)\n",
        "            mst_cost += w\n",
        "            for v, w2 in graph[u].items():\n",
        "                if v in nodes and v not in visited:\n",
        "                    heapq.heappush(edges, (w2, v))\n",
        "\n",
        "    if len(visited) != len(nodes):\n",
        "        return math.inf\n",
        "    return mst_cost\n",
        "\n",
        "#1-tree lower bound heuristic for Hamiltonian Cycle:\n",
        "def get_heuristic(problem, current_node):\n",
        "    visited_nodes = set([path.state for path in current_node.get_path()])\n",
        "    unvisited = problem.all_nodes - visited_nodes\n",
        "\n",
        "    if not unvisited:\n",
        "        # All nodes visited, just return to start with a minimum heuristic of 0\n",
        "        return 0\n",
        "\n",
        "    # Case: only one unvisited node left\n",
        "    if len(unvisited) == 1:\n",
        "        last_node = next(iter(unvisited))\n",
        "        cost_to_last = problem.graph[current_node.state].get(last_node, math.inf)\n",
        "        cost_to_start = problem.graph[last_node].get(problem.initial_state, math.inf)\n",
        "        return cost_to_last + cost_to_start\n",
        "\n",
        "    # MST cost over unvisited nodes\n",
        "    mst_cost = prim_mst_cost(problem.graph, unvisited)\n",
        "\n",
        "    # Minimum edge from current to any unvisited node\n",
        "    min_from_current = min(\n",
        "        (problem.graph[current_node.state].get(v, math.inf) for v in unvisited),\n",
        "        default=math.inf\n",
        "    )\n",
        "\n",
        "    # Minimum edge from any unvisited node back to start\n",
        "    min_to_start = min(\n",
        "        (problem.graph[v].get(problem.initial_state, math.inf) for v in unvisited),\n",
        "        default=math.inf\n",
        "    )\n",
        "\n",
        "    h_val = mst_cost + min_from_current + min_to_start\n",
        "    print(f\"  1-tree: current={current_node.get_path()}, unvisited={unvisited}, h={h_val:.1f}\")\n",
        "\n",
        "    return h_val"
      ]
    },
    {
      "cell_type": "code",
      "execution_count": 13,
      "metadata": {
        "id": "ro24Gaj7F7sO"
      },
      "outputs": [],
      "source": [
        "# Code Block : Write function to design the Transition Model/Successor function.\n",
        "def get_successors(problem, current_node):\n",
        "    visited_nodes = set([path.state for path in current_node.get_path()]) # Don't include any node that are already visited.\n",
        "    visited_nodes.remove(problem.initial_state) # Should be removed because we go back to the initial state as a part of the traversal for this problem.\n",
        "    successors = [Node(child, current_node, path_cost) for (child, path_cost) in problem.graph[current_node.state].items() if (child not in visited_nodes)] # Create successors with all unvisited nodes.\n",
        "    if problem.metrics:\n",
        "        problem.metrics.nodes_generated += len(successors)\n",
        "    return successors"
      ]
    },
    {
      "cell_type": "code",
      "execution_count": 14,
      "metadata": {
        "id": "HIVPhrRWF7sO"
      },
      "outputs": [],
      "source": [
        "# Code block : Write fucntion to handle goal test.\n",
        "def goal_test(problem, node):\n",
        "    return node.state == problem.initial_state and set([path.state for path in node.get_path()]) == problem.all_nodes\n"
      ]
    },
    {
      "cell_type": "markdown",
      "metadata": {
        "id": "Z4QwDeX5F7sO"
      },
      "source": [
        "### 2.\tDefinition of Algorithm - Recursive Best First Search (RBFS)"
      ]
    },
    {
      "cell_type": "code",
      "execution_count": 19,
      "metadata": {
        "id": "zD_EPCHWF7sO"
      },
      "outputs": [],
      "source": [
        "#Code Block : Function for algorithm RBFS implementation\n",
        "\n",
        "def rbfs(problem, node, f_limit):\n",
        "    print(f\"Goal Test: whether {node.get_path()} is a least cost tour.\")\n",
        "    if goal_test(problem, node):\n",
        "        return node, node.path_cost\n",
        "\n",
        "    successors = []\n",
        "    node_f = node.path_cost + get_heuristic(problem,node)\n",
        "\n",
        "    # Update metrics\n",
        "    if problem.metrics:\n",
        "        problem.metrics.max_depth = max(problem.metrics.max_depth, problem.metrics.current_depth)\n",
        "        problem.metrics.max_fringe_size = max(problem.metrics.max_fringe_size, problem.metrics.current_fringe_size)\n",
        "\n",
        "    for successor in get_successors(problem, node):\n",
        "        successor_f = successor.path_cost + get_heuristic(problem, successor)\n",
        "\n",
        "        heapq.heappush(successors, (max(node_f, successor_f), successor))\n",
        "        if problem.metrics:\n",
        "            problem.metrics.nodes_expanded += 1\n",
        "        problem.metrics.current_fringe_size = len(successors)\n",
        "\n",
        "    if len(successors) == 0:\n",
        "        return None, float('inf')\n",
        "\n",
        "    while successors:\n",
        "        f, best = heapq.heappop(successors)\n",
        "        if f > f_limit:\n",
        "            return None, f\n",
        "        alternative_f, _ = heapq.heappop(successors) if successors else (float('inf'), None)\n",
        "\n",
        "        if not _:\n",
        "            heapq.heappush(successors, (alternative_f, _))\n",
        "\n",
        "        if problem.metrics:\n",
        "            problem.metrics.current_depth +=1 # Increase current depth before going down the recursive path\n",
        "        result, best_f = rbfs(problem, best, min(f_limit, alternative_f))\n",
        "\n",
        "        if result:\n",
        "            if problem.metrics:\n",
        "                problem.metrics.current_depth -=1 # Decrease current depth because we are going a level up.\n",
        "            return result, best_f\n",
        "\n",
        "        heapq.heappush(successors, (best_f, successor))\n",
        "\n",
        "\n",
        "def recursive_best_first_search(problem):\n",
        "    return rbfs(problem, Node(problem.initial_state), float('inf'))"
      ]
    },
    {
      "cell_type": "markdown",
      "metadata": {
        "id": "LEV2XHccF7sP"
      },
      "source": [
        "### 3. Input Graph"
      ]
    },
    {
      "cell_type": "code",
      "execution_count": 20,
      "metadata": {
        "id": "Q5t1Lc-wF7sP"
      },
      "outputs": [],
      "source": [
        "#Code Block : Graph representation\n",
        "\n",
        "graph = {\n",
        "    \"A\": {\"B\": 15, \"F\": 20},\n",
        "    \"F\": {\"A\": 20, \"E\": 15, \"G\":20},\n",
        "    \"G\": {\"F\": 20, \"B\": 10, \"E\": 10, \"H\": 15},\n",
        "    \"H\": {\"G\": 15, \"E\": 25, \"D\": 20},\n",
        "    \"E\": {\"F\": 15, \"B\": 15, \"G\": 10, \"H\": 25, \"C\": 30},\n",
        "    \"D\": {\"H\": 20, \"C\": 5},\n",
        "    \"C\": {\"D\": 5, \"E\": 30, \"B\": 10},\n",
        "    \"B\": {\"C\": 10, \"E\": 15, \"G\": 10, \"A\": 15}\n",
        "}\n",
        "\n",
        "rbfs_problem = TourAgentProblem(graph, \"A\")"
      ]
    },
    {
      "cell_type": "markdown",
      "metadata": {
        "id": "xsfOP81lF7sP"
      },
      "source": [
        "### 4.\tCalling the search algorithms\n"
      ]
    },
    {
      "cell_type": "code",
      "execution_count": 23,
      "metadata": {
        "id": "Og5zI9thF7sP",
        "colab": {
          "base_uri": "https://localhost:8080/"
        },
        "outputId": "b9a2c087-d2bd-4dd6-f083-33da46ed26cc"
      },
      "outputs": [
        {
          "output_type": "stream",
          "name": "stdout",
          "text": [
            "Goal Test: whether [A] is a least cost tour.\n",
            "  1-tree: current=[A], unvisited={'D', 'F', 'G', 'E', 'H', 'C', 'B'}, h=95.0\n",
            "  1-tree: current=[A, B], unvisited={'D', 'F', 'G', 'E', 'H', 'C'}, h=95.0\n",
            "  1-tree: current=[A, F], unvisited={'D', 'G', 'E', 'H', 'C', 'B'}, h=80.0\n",
            "Goal Test: whether [A, F] is a least cost tour.\n",
            "  1-tree: current=[A, F], unvisited={'D', 'G', 'E', 'H', 'C', 'B'}, h=80.0\n",
            "  1-tree: current=[A, F, A], unvisited={'D', 'G', 'E', 'H', 'C', 'B'}, h=80.0\n",
            "  1-tree: current=[A, F, E], unvisited={'D', 'G', 'H', 'C', 'B'}, h=65.0\n",
            "  1-tree: current=[A, F, G], unvisited={'D', 'E', 'H', 'C', 'B'}, h=75.0\n",
            "Goal Test: whether [A, F, E] is a least cost tour.\n",
            "  1-tree: current=[A, F, E], unvisited={'D', 'G', 'H', 'C', 'B'}, h=65.0\n",
            "  1-tree: current=[A, F, E, B], unvisited={'D', 'G', 'H', 'C'}, h=inf\n",
            "  1-tree: current=[A, F, E, G], unvisited={'D', 'H', 'C', 'B'}, h=60.0\n",
            "  1-tree: current=[A, F, E, H], unvisited={'D', 'G', 'C', 'B'}, h=55.0\n",
            "  1-tree: current=[A, F, E, C], unvisited={'D', 'G', 'H', 'B'}, h=65.0\n",
            "Goal Test: whether [A, F, E, G] is a least cost tour.\n",
            "  1-tree: current=[A, F, E, G], unvisited={'D', 'H', 'C', 'B'}, h=60.0\n",
            "  1-tree: current=[A, F, E, G, B], unvisited={'D', 'H', 'C'}, h=inf\n",
            "  1-tree: current=[A, F, E, G, H], unvisited={'D', 'C', 'B'}, h=50.0\n",
            "Goal Test: whether [A, F, E, G, H] is a least cost tour.\n",
            "  1-tree: current=[A, F, E, G, H], unvisited={'D', 'C', 'B'}, h=50.0\n",
            "  1-tree: current=[A, F, E, G, H, D], unvisited={'C', 'B'}, h=30.0\n",
            "Goal Test: whether [A, F, E, G, H, D] is a least cost tour.\n",
            "  1-tree: current=[A, F, E, G, H, D], unvisited={'C', 'B'}, h=30.0\n",
            "Goal Test: whether [A, F, E, G, H, D, C] is a least cost tour.\n",
            "Goal Test: whether [A, F, E, G, H, D, C, B] is a least cost tour.\n",
            "Goal Test: whether [A, F, E, G, H, D, C, B, A] is a least cost tour.\n",
            "Optimal Path found through RBFS: [A, F, E, G, H, D, C, B, A]\n",
            "Optimal Path Cost: 110\n"
          ]
        }
      ],
      "source": [
        "# Invoke algorithm RBFS (to Print the solution, path, cost etc)\n",
        "rbfs_problem.set_metrics(RBFSMetrics())\n",
        "rbfs_result, path_cost = recursive_best_first_search(rbfs_problem)\n",
        "print(\"Optimal Path found through RBFS:\", rbfs_result.get_path())\n",
        "print(\"Optimal Path Cost:\", path_cost)\n",
        "rbfs_problem.metrics.finalize()"
      ]
    },
    {
      "cell_type": "markdown",
      "metadata": {
        "id": "TOU3Rem6F7sQ"
      },
      "source": [
        "### 5.\tTime and Space Complexity"
      ]
    },
    {
      "cell_type": "code",
      "execution_count": 22,
      "metadata": {
        "id": "HG6fWwiIF7sQ",
        "colab": {
          "base_uri": "https://localhost:8080/"
        },
        "outputId": "aa494bf5-4191-4c7f-e006-871912eb6073"
      },
      "outputs": [
        {
          "output_type": "stream",
          "name": "stdout",
          "text": [
            "\n",
            "============================================================\n",
            "SPACE AND TIME COMPLEXITY ANALYSIS OF RBFS IMPLEMENTATION:\n",
            "============================================================\n",
            "\n",
            "Graph Statistics:\n",
            "  • Number of nodes: 8\n",
            "  • Number of edges: 13\n",
            "\n",
            "Time Complexity:\n",
            "  • Execution time: 3.24 ms\n",
            "  • Nodes expanded: 15\n",
            "  • Nodes generated: 15\n",
            "  • Average branching factor: 1.00\n",
            "\n",
            "Space Complexity:\n",
            "  • Peak memory usage: 23.83 KB\n",
            "  • Current memory usage: 5.66 KB\n",
            "  • Max fringe size: 4\n",
            "  • Max depth reached: 7\n",
            "\n",
            "Complexity Estimates:\n",
            "  • Theoretical worst case: O(b^d) where b=branching factor, d=depth\n",
            "  • For Hamiltonian Cycle: O(n!) = O(8!) without pruning\n",
            "  • Actual nodes expanded: 15 vs theoretical max: 40320\n",
            "  • Space saved by RBFS: Linear O(bd) instead of exponential O(b^d)\n",
            "======================================================================\n"
          ]
        }
      ],
      "source": [
        "#Code Block : Print the Time & Space complexity of algorithm RBFS\n",
        "rbfs_problem.metrics.print_complexity_analysis()\n",
        "print(\"=\"*70)"
      ]
    }
  ],
  "metadata": {
    "kernelspec": {
      "display_name": "Python 3",
      "language": "python",
      "name": "python3"
    },
    "language_info": {
      "codemirror_mode": {
        "name": "ipython",
        "version": 3
      },
      "file_extension": ".py",
      "mimetype": "text/x-python",
      "name": "python",
      "nbconvert_exporter": "python",
      "pygments_lexer": "ipython3",
      "version": "3.7.6"
    },
    "colab": {
      "provenance": []
    }
  },
  "nbformat": 4,
  "nbformat_minor": 0
}